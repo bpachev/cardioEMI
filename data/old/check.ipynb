{
 "cells": [
  {
   "cell_type": "code",
   "execution_count": 1,
   "id": "1b083930",
   "metadata": {},
   "outputs": [
    {
     "name": "stdout",
     "output_type": "stream",
     "text": [
      "{0: {2, 3, 4}, 2: {2, 6, 7}, 1: {3, 5, 6}, 3: {4, 5, 7}}\n"
     ]
    }
   ],
   "source": [
    "import pickle\n",
    "\n",
    "with open(\"robin.pickle\", \"rb\") as f:\n",
    "    data = pickle.load(f)\n",
    "\n",
    "print(data)"
   ]
  },
  {
   "cell_type": "code",
   "execution_count": 11,
   "id": "9976c28a",
   "metadata": {},
   "outputs": [
    {
     "name": "stdout",
     "output_type": "stream",
     "text": [
      "defaultdict(<class 'set'>, {0: {1}, 1: {1}})\n"
     ]
    }
   ],
   "source": [
    "import pickle\n",
    "\n",
    "with open(\"membrane_tags_dict.pickle\", \"rb\") as f:\n",
    "    data = pickle.load(f)\n",
    "\n",
    "print(data)"
   ]
  },
  {
   "cell_type": "code",
   "execution_count": 12,
   "id": "5bdaa8bf",
   "metadata": {},
   "outputs": [],
   "source": [
    "\"\"\"\n",
    "This script imports synthetic meshes that were converted with meshio from vtu to xdmf\n",
    "Note that, in these meshes, there is some unnecessary and some missing data to be used for cardioEMI\n",
    "Here, we drop the unnecessary data, rename the keys according to what cardioEMI can read and generate the \n",
    "missing data.\n",
    "\"\"\"\n",
    "\n",
    "import h5py\n",
    "import numpy as np\n",
    "from lxml import etree\n",
    "from collections import defaultdict\n",
    "from scipy.sparse import coo_matrix\n",
    "import pickle\n",
    "import binascii\n",
    "import subprocess\n",
    "import os\n",
    "import glob\n",
    "\n",
    "def convert_mesh(input_file, output_file):\n",
    "    try:\n",
    "        # Run the meshio conversion command\n",
    "        subprocess.run(\n",
    "            [\"meshio\", \"convert\", input_file, output_file],\n",
    "            check=True  # Raise an exception if the command fails\n",
    "        )\n",
    "        print(f\"Successfully converted {input_file} to {output_file}\")\n",
    "    except subprocess.CalledProcessError as e:\n",
    "        print(f\"Error occurred during mesh conversion: {e}\")\n",
    "    except FileNotFoundError:\n",
    "        print(\"meshio is not installed or not in the system PATH.\")\n",
    "\n",
    "def load_xdmf_and_h5(xdmf_file, h5_file):\n",
    "    # Parse the XDMF file\n",
    "    xdmf_tree = etree.parse(xdmf_file)\n",
    "    root = xdmf_tree.getroot()\n",
    "\n",
    "    # Open the HDF5 file\n",
    "    with h5py.File(h5_file, \"r\") as h5:\n",
    "        # Function to safely retrieve data from HDF5\n",
    "        def get_data_from_hdf5(path):\n",
    "            try:\n",
    "                return np.array(h5[path])\n",
    "            except KeyError:\n",
    "                raise KeyError(f\"Path '{path}' not found in HDF5 file.\")\n",
    "\n",
    "        # Extract geometry data\n",
    "        geometry_item = root.xpath(\"//Grid[@Name='Grid']/Geometry/DataItem\")[0]\n",
    "        geometry_path = geometry_item.text.strip().split(\":\")[-1]\n",
    "        geometry_data = get_data_from_hdf5(geometry_path)\n",
    "\n",
    "        # Extract topology data\n",
    "        topology_item = root.xpath(\"//Grid[@Name='Grid']/Topology/DataItem\")[0]\n",
    "        topology_path = topology_item.text.strip().split(\":\")[-1]\n",
    "        topology_data = get_data_from_hdf5(topology_path)\n",
    "\n",
    "        # Extract node-based attribute\n",
    "        node_attribute_item = root.xpath(\"//Grid[@Name='Grid']/Attribute[@Center='Node']/DataItem\")[0]\n",
    "        node_attribute_path = node_attribute_item.text.strip().split(\":\")[-1]\n",
    "        node_attribute_data = get_data_from_hdf5(node_attribute_path)\n",
    "\n",
    "        # Extract cell-based attribute\n",
    "        cell_attribute_item = root.xpath(\"//Grid[@Name='Grid']/Attribute[@Center='Cell']/DataItem\")[0]\n",
    "        cell_attribute_path = cell_attribute_item.text.strip().split(\":\")[-1]\n",
    "        cell_attribute_data = get_data_from_hdf5(cell_attribute_path)\n",
    "\n",
    "    # Return the data as a dictionary\n",
    "    return {\n",
    "        \"geometry\": geometry_data,\n",
    "        \"topology\": topology_data,\n",
    "        \"node_attribute\": node_attribute_data,\n",
    "        \"cell_attribute\": cell_attribute_data,\n",
    "    }\n",
    "\n",
    "def reduce_tags(mesh):\n",
    "    geometry = mesh['geometry']\n",
    "    topology = mesh['topology']\n",
    "    cell_values = mesh['cell_values']\n",
    "\n",
    "    # Step 1: Create adjacency for tetrahedra\n",
    "    def find_neighbors(topology):\n",
    "        face_to_cells = defaultdict(list)\n",
    "        for cell_id, tetra in enumerate(topology):\n",
    "            faces = [tuple(sorted(tetra[[i, j, k]])) for i, j, k in [(1, 2, 3), (0, 2, 3), (0, 1, 3), (0, 1, 2)]]\n",
    "            for face in faces:\n",
    "                face_to_cells[face].append(cell_id)\n",
    "        adjacency = defaultdict(set)\n",
    "        for cells in face_to_cells.values():\n",
    "            if len(cells) == 2:\n",
    "                c1, c2 = cells\n",
    "                adjacency[c1].add(c2)\n",
    "                adjacency[c2].add(c1)\n",
    "        return adjacency\n",
    "\n",
    "    adjacency = find_neighbors(topology)\n",
    "\n",
    "    # Step 2: Build conflict graph\n",
    "    tag_neighbors = defaultdict(set)\n",
    "    for cell, neighbors in adjacency.items():\n",
    "        cell_tag = cell_values[cell]\n",
    "        for neighbor in neighbors:\n",
    "            neighbor_tag = cell_values[neighbor]\n",
    "            if cell_tag != neighbor_tag:  # Only consider different tags\n",
    "                tag_neighbors[cell_tag].add(neighbor_tag)\n",
    "                tag_neighbors[neighbor_tag].add(cell_tag)\n",
    "\n",
    "    # Step 3: Graph coloring (greedy)\n",
    "    tag_colors = {}\n",
    "    for tag in sorted(tag_neighbors):  # Sort tags for deterministic behavior\n",
    "        neighbor_colors = {tag_colors[neighbor] for neighbor in tag_neighbors[tag] if neighbor in tag_colors}\n",
    "        tag_colors[tag] = next(color for color in range(len(tag_neighbors)) if color not in neighbor_colors)\n",
    "\n",
    "    # Step 4: Map new colors to cells\n",
    "    new_cell_values = np.array([tag_colors[tag] for tag in cell_values])\n",
    "\n",
    "    return {\n",
    "        'geometry': geometry,\n",
    "        'topology': topology,\n",
    "        'cell_values': new_cell_values\n",
    "    }\n",
    "\n",
    "def facets(mesh):\n",
    "    # Step 1: Duplicate cell topology\n",
    "    mesh['cell_topology'] = mesh['topology'].copy()\n",
    "    \n",
    "    # Step 2: Extract facets from tetrahedra\n",
    "    def extract_facets(topology):\n",
    "        facets = defaultdict(list)\n",
    "        for cell_id, tetra in enumerate(topology):\n",
    "            # Each tetrahedron contributes 4 facets\n",
    "            face_combinations = [tuple(sorted(tetra[[i, j, k]])) for i, j, k in [\n",
    "                (1, 2, 3), (0, 2, 3), (0, 1, 3), (0, 1, 2)]]\n",
    "            for face in face_combinations:\n",
    "                facets[face].append(cell_id)\n",
    "        return facets\n",
    "\n",
    "    facets = extract_facets(mesh['topology'])\n",
    "\n",
    "    # Step 3: Assign facet values\n",
    "    facet_topology = []\n",
    "    facet_values = []\n",
    "    zero_combination_map = {}\n",
    "    combination_map = {}\n",
    "    boundary_map = defaultdict(set)  # To store the result\n",
    "    next_tag = 2  # Start unique tags from 2\n",
    "\n",
    "    for facet, cells in facets.items():\n",
    "        facet_topology.append(facet)\n",
    "        if len(cells) == 1:  # Boundary facet\n",
    "            cell_value = mesh['cell_values'][cells[0]]\n",
    "            if cell_value == 0:\n",
    "                facet_tag = 0\n",
    "            else:\n",
    "                if (0, cell_value) not in zero_combination_map:\n",
    "                    zero_combination_map[(0, cell_value)] = next_tag\n",
    "                    next_tag += 1\n",
    "                facet_tag = zero_combination_map[(0, cell_value)]\n",
    "            facet_values.append(facet_tag)\n",
    "            boundary_map[cell_value].add(facet_tag)  # Add to boundary map\n",
    "        elif len(cells) == 2:  # Interior facet\n",
    "            cell_value_1 = mesh['cell_values'][cells[0]]\n",
    "            cell_value_2 = mesh['cell_values'][cells[1]]\n",
    "            if cell_value_1 == cell_value_2:\n",
    "                facet_tag = 0  # (n, n)\n",
    "            elif 0 in (cell_value_1, cell_value_2):\n",
    "                n = max(cell_value_1, cell_value_2)  # Get the non-zero value\n",
    "                if (0, n) not in zero_combination_map:\n",
    "                    zero_combination_map[(0, n)] = next_tag\n",
    "                    next_tag += 1\n",
    "                facet_tag = zero_combination_map[(0, n)]\n",
    "            else:\n",
    "                # Assign unique tags for (n, m) where n != m, n, m > 0\n",
    "                n, m = sorted((cell_value_1, cell_value_2))  # Ensure (min, max) order\n",
    "                if (n, m) not in combination_map:\n",
    "                    combination_map[(n, m)] = next_tag\n",
    "                    next_tag += 1\n",
    "                facet_tag = combination_map[(n, m)]\n",
    "            facet_values.append(facet_tag)\n",
    "            # Add to boundary map for both cell_value_1 and cell_value_2\n",
    "            boundary_map[cell_value_1].add(facet_tag)\n",
    "            boundary_map[cell_value_2].add(facet_tag)\n",
    "\n",
    "    # Step 4: Add to mesh\n",
    "    mesh['facet_topology'] = np.array(facet_topology)\n",
    "    mesh['facet_values'] = np.array(facet_values)\n",
    "\n",
    "    return mesh, zero_combination_map, combination_map, boundary_map\n",
    "\n",
    "def write_xdmf_h5(mesh, xdmf_file, h5_file):\n",
    "    # Namespace for xi\n",
    "    xi_ns = \"https://www.w3.org/2001/XInclude\"\n",
    "    nsmap = {\"xi\": xi_ns}\n",
    "\n",
    "    # Write the HDF5 file\n",
    "    with h5py.File(h5_file, \"w\") as h5:\n",
    "        # Create groups for mesh data\n",
    "        mesh_group = h5.create_group(\"Mesh\")\n",
    "        mesh_group.create_dataset(\"mesh/geometry\", data=mesh['geometry'])\n",
    "        mesh_group.create_dataset(\"mesh/topology\", data=mesh['topology'])\n",
    "\n",
    "        # Create groups for facet tags\n",
    "        mesh_group.create_dataset(\"facet_tags/topology\", data=mesh['facet_topology'])\n",
    "        mesh_group.create_dataset(\"facet_tags/Values\", data=mesh['facet_values'].ravel())\n",
    "\n",
    "        # Create groups for cell tags\n",
    "        mesh_group.create_dataset(\"cell_tags/topology\", data=mesh['cell_topology'])\n",
    "        mesh_group.create_dataset(\"cell_tags/Values\", data=mesh['cell_values'].ravel())\n",
    "\n",
    "    # Write the XDMF file\n",
    "    root = etree.Element(\"Xdmf\", Version=\"3.0\", nsmap=nsmap)\n",
    "    domain = etree.SubElement(root, \"Domain\")\n",
    "\n",
    "    # Mesh Grid\n",
    "    grid_mesh = etree.SubElement(domain, \"Grid\", Name=\"mesh\", GridType=\"Uniform\")\n",
    "    topology_mesh = etree.SubElement(grid_mesh, \"Topology\", TopologyType=\"Tetrahedron\",\n",
    "                                      NumberOfElements=str(mesh['topology'].shape[0]))\n",
    "    etree.SubElement(topology_mesh, \"DataItem\", Dimensions=f\"{mesh['topology'].shape[0]} 4\", \n",
    "                     NumberType=\"Int\", Format=\"HDF\").text = f\"{h5_file}:/Mesh/mesh/topology\"\n",
    "\n",
    "    geometry_mesh = etree.SubElement(grid_mesh, \"Geometry\", GeometryType=\"XYZ\")\n",
    "    etree.SubElement(geometry_mesh, \"DataItem\", Dimensions=f\"{mesh['geometry'].shape[0]} 3\",\n",
    "                     Format=\"HDF\").text = f\"{h5_file}:/Mesh/mesh/geometry\"\n",
    "\n",
    "    # Facet Tags Grid\n",
    "    grid_facet = etree.SubElement(domain, \"Grid\", Name=\"facet_tags\", GridType=\"Uniform\")\n",
    "    xi_include_geom = etree.Element(f\"{{{xi_ns}}}include\", \n",
    "                                     xpointer=\"xpointer(/Xdmf/Domain/Grid/Geometry)\")\n",
    "    grid_facet.append(xi_include_geom)\n",
    "    topology_facet = etree.SubElement(grid_facet, \"Topology\", TopologyType=\"Triangle\",\n",
    "                                       NumberOfElements=str(mesh['facet_topology'].shape[0]))\n",
    "    etree.SubElement(topology_facet, \"DataItem\", Dimensions=f\"{mesh['facet_topology'].shape[0]} 3\", \n",
    "                     NumberType=\"Int\", Format=\"HDF\").text = f\"{h5_file}:/Mesh/facet_tags/topology\"\n",
    "\n",
    "    attribute_facet = etree.SubElement(grid_facet, \"Attribute\", Name=\"facet_tags\", \n",
    "                                       AttributeType=\"Scalar\", Center=\"Cell\")\n",
    "    etree.SubElement(attribute_facet, \"DataItem\", Dimensions=f\"{mesh['facet_values'].shape[0]}\",\n",
    "                     Format=\"HDF\").text = f\"{h5_file}:/Mesh/facet_tags/Values\"\n",
    "\n",
    "    # Cell Tags Grid\n",
    "    grid_cell = etree.SubElement(domain, \"Grid\", Name=\"cell_tags\", GridType=\"Uniform\")\n",
    "    xi_include_geom = etree.Element(f\"{{{xi_ns}}}include\", \n",
    "                                     xpointer=\"xpointer(/Xdmf/Domain/Grid/Geometry)\")\n",
    "    grid_cell.append(xi_include_geom)\n",
    "    topology_cell = etree.SubElement(grid_cell, \"Topology\", TopologyType=\"Tetrahedron\",\n",
    "                                      NumberOfElements=str(mesh['cell_topology'].shape[0]))\n",
    "    etree.SubElement(topology_cell, \"DataItem\", Dimensions=f\"{mesh['cell_topology'].shape[0]} 4\", \n",
    "                     NumberType=\"Int\", Format=\"HDF\").text = f\"{h5_file}:/Mesh/cell_tags/topology\"\n",
    "\n",
    "    attribute_cell = etree.SubElement(grid_cell, \"Attribute\", Name=\"cell_tags\", \n",
    "                                       AttributeType=\"Scalar\", Center=\"Cell\")\n",
    "    etree.SubElement(attribute_cell, \"DataItem\", Dimensions=f\"{mesh['cell_values'].shape[0]}\",\n",
    "                     Format=\"HDF\").text = f\"{h5_file}:/Mesh/cell_tags/Values\"\n",
    "\n",
    "    # Save the XDMF file\n",
    "    tree = etree.ElementTree(root)\n",
    "    tree.write(xdmf_file, pretty_print=True, xml_declaration=True, encoding=\"UTF-8\")\n",
    "\n",
    "def clear():\n",
    "    # Get the current working directory\n",
    "    current_dir = os.getcwd()\n",
    "    \n",
    "    # Find all files matching the pattern \"tmp.*\"\n",
    "    tmp_files = glob.glob(os.path.join(current_dir, \"tmp.*\"))\n",
    "    \n",
    "    # Remove each file\n",
    "    for tmp_file in tmp_files:\n",
    "        try:\n",
    "            os.remove(tmp_file)\n",
    "            print(f\"Removed: {tmp_file}\")\n",
    "        except Exception as e:\n",
    "            print(f\"Failed to remove {tmp_file}: {e}\")"
   ]
  },
  {
   "cell_type": "code",
   "execution_count": 13,
   "id": "63666994",
   "metadata": {},
   "outputs": [
    {
     "name": "stdout",
     "output_type": "stream",
     "text": [
      "Successfully converted robin.vtu to tmp.xdmf\n"
     ]
    },
    {
     "name": "stderr",
     "output_type": "stream",
     "text": [
      "/var/folders/pl/2w4y44vs6599s9dtm7nd0cvrtcbhlr/T/ipykernel_24277/1167040767.py:42: DeprecationWarning: `product` is deprecated as of NumPy 1.25.0, and will be removed in NumPy 2.0. Please use `prod` instead.\n",
      "  return np.array(h5[path])\n"
     ]
    },
    {
     "name": "stdout",
     "output_type": "stream",
     "text": [
      "Removed: /Users/js714/Projects/2025/cardioEMI/data/tmp.h5\n",
      "Removed: /Users/js714/Projects/2025/cardioEMI/data/tmp.xdmf\n"
     ]
    }
   ],
   "source": [
    "input_mesh = 'robin.vtu'\n",
    "prefix_out = 'robin'\n",
    "\n",
    "# Step 1: Convert synthetic mesh generator output to .xdmf\n",
    "convert_mesh(input_mesh, 'tmp.xdmf')\n",
    "\n",
    "# Step 2: Load mesh converted via meshio\n",
    "mesh = load_xdmf_and_h5('tmp.xdmf', 'tmp.h5')\n",
    "\n",
    "# Step 3: Rename and delete unnecessary keys\n",
    "if 'node_attribute' in mesh:\n",
    "    del mesh['node_attribute']\n",
    "if 'cell_attribute' in mesh:\n",
    "    mesh['cell_values'] = mesh.pop('cell_attribute')\n",
    "\n",
    "# Step 4: Minimise tag numbers ensuring that no neighbouring subdomains share the same tag\n",
    "mesh = reduce_tags(mesh)\n",
    "\n",
    "# Step 5: Create facet data and duplicate topology values into a new key called cell_topology\n",
    "# Facet tags are 0 for inside a domain, and unique tags for intersections of domains (including I-E)\n",
    "mesh, zero_combinations, unique_combinations, boundary_map = facets(mesh)\n",
    "\n",
    "# Step 6: Write pickle file (dictionary for membrane tags)\n",
    "with open(f\"{prefix_out}.pickle\", \"wb\") as f:\n",
    "    pickle.dump(boundary_map, f)\n",
    "\n",
    "# Step 7: Write final mesh to XDMF and HDF5 formats\n",
    "write_xdmf_h5(mesh, f\"{prefix_out}.xdmf\", f\"{prefix_out}.h5\")\n",
    "\n",
    "# Step 8: Clean up temporary files\n",
    "clear()"
   ]
  },
  {
   "cell_type": "code",
   "execution_count": 25,
   "id": "5a8c2d2a",
   "metadata": {},
   "outputs": [
    {
     "name": "stdout",
     "output_type": "stream",
     "text": [
      "{0: {2, 3, 4}, 2: {2, 6, 7}, 1: {3, 5, 6}, 3: {4, 5, 7}}\n"
     ]
    }
   ],
   "source": [
    "# Load the possibly NumPy-dependent pickle file\n",
    "with open(\"robin.pickle\", \"rb\") as f:\n",
    "    data = pickle.load(f)\n",
    "\n",
    "print(data)"
   ]
  },
  {
   "cell_type": "code",
   "execution_count": 26,
   "id": "55a9dfa6",
   "metadata": {},
   "outputs": [],
   "source": [
    "# Convert data to pure Python (if needed)\n",
    "if isinstance(data, dict):\n",
    "    data = {k: set(v) for k, v in data.items()}  # Convert NumPy sets/lists to pure Python\n",
    "\n",
    "# Save the new pickle file without NumPy dependencies\n",
    "with open(\"robin.pickle\", \"wb\") as f:\n",
    "    pickle.dump(data, f, protocol=pickle.HIGHEST_PROTOCOL)"
   ]
  },
  {
   "cell_type": "code",
   "execution_count": 24,
   "id": "81c5528c",
   "metadata": {},
   "outputs": [
    {
     "name": "stdout",
     "output_type": "stream",
     "text": [
      "defaultdict(<class 'set'>, {0: {0, 2, 3, 4}, 2: {0, 2, 6, 7}, 1: {0, 3, 5, 6}, 3: {0, 4, 5, 7}})\n"
     ]
    }
   ],
   "source": [
    "with open(f\"{prefix_out}.pickle\", \"wb\") as f:\n",
    "    pickle.dump(boundary_map, f)\n",
    "    \n",
    "import pickle\n",
    "\n",
    "with open(\"robin.pickle\", \"rb\") as f:\n",
    "    data = pickle.load(f)\n",
    "\n",
    "print(data)"
   ]
  },
  {
   "cell_type": "code",
   "execution_count": 27,
   "id": "7c5423f8",
   "metadata": {},
   "outputs": [
    {
     "data": {
      "text/plain": [
       "'robin'"
      ]
     },
     "execution_count": 27,
     "metadata": {},
     "output_type": "execute_result"
    }
   ],
   "source": [
    "prefix_out"
   ]
  },
  {
   "cell_type": "code",
   "execution_count": 12,
   "id": "1b6aa4f8",
   "metadata": {},
   "outputs": [
    {
     "name": "stdout",
     "output_type": "stream",
     "text": [
      "{0: {2, 3, 4}, 2: {2, 6, 7}, 1: {3, 5, 6}, 3: {4, 5, 7}}\n"
     ]
    }
   ],
   "source": [
    "boundary_map = {key: {x for x in value if x != 0} for key, value in boundary_map.items()}\n",
    "\n",
    "print(boundary_map)"
   ]
  },
  {
   "cell_type": "code",
   "execution_count": 13,
   "id": "0fe4101a",
   "metadata": {},
   "outputs": [],
   "source": [
    "with open(f\"{prefix_out}.pickle\", \"wb\") as f:\n",
    "    pickle.dump(boundary_map, f)"
   ]
  },
  {
   "cell_type": "code",
   "execution_count": 19,
   "id": "f22bc6a3",
   "metadata": {},
   "outputs": [
    {
     "name": "stdout",
     "output_type": "stream",
     "text": [
      "{0: {0, 2, 3, 4}, 2: {0, 2, 6, 7}, 1: {0, 3, 5, 6}, 3: {0, 4, 5, 7}}\n"
     ]
    }
   ],
   "source": [
    "import pickle\n",
    "\n",
    "with open(\"robin.pickle\", \"rb\") as f:\n",
    "    data = pickle.load(f)\n",
    "\n",
    "print(data)"
   ]
  },
  {
   "cell_type": "code",
   "execution_count": 6,
   "id": "073bfd3f",
   "metadata": {},
   "outputs": [],
   "source": [
    "facets = extract_facets(mesh['topology'])"
   ]
  },
  {
   "cell_type": "code",
   "execution_count": 8,
   "id": "4d6c4df2",
   "metadata": {},
   "outputs": [
    {
     "data": {
      "text/plain": [
       "(array([[ 3306,  9235, 14213],\n",
       "        [ 9235, 14213, 18412],\n",
       "        [ 3306, 14213, 18412],\n",
       "        ...,\n",
       "        [ 7493,  8657,  8691],\n",
       "        [   73,  7493,  8691],\n",
       "        [ 8654,  9779, 22939]]),\n",
       " array([0, 0, 0, ..., 0, 0, 0]))"
      ]
     },
     "execution_count": 8,
     "metadata": {},
     "output_type": "execute_result"
    }
   ],
   "source": [
    "mesh['facet_topology'], mesh['facet_values']"
   ]
  },
  {
   "cell_type": "code",
   "execution_count": 9,
   "id": "f8632b17",
   "metadata": {},
   "outputs": [
    {
     "data": {
      "text/plain": [
       "array([0, 2, 3, 4, 5, 6, 7])"
      ]
     },
     "execution_count": 9,
     "metadata": {},
     "output_type": "execute_result"
    }
   ],
   "source": [
    "np.unique(mesh['facet_values'])"
   ]
  },
  {
   "cell_type": "code",
   "execution_count": null,
   "id": "53ade344",
   "metadata": {},
   "outputs": [],
   "source": []
  }
 ],
 "metadata": {
  "kernelspec": {
   "display_name": "Python 3 (ipykernel)",
   "language": "python",
   "name": "python3"
  },
  "language_info": {
   "codemirror_mode": {
    "name": "ipython",
    "version": 3
   },
   "file_extension": ".py",
   "mimetype": "text/x-python",
   "name": "python",
   "nbconvert_exporter": "python",
   "pygments_lexer": "ipython3",
   "version": "3.11.6"
  }
 },
 "nbformat": 4,
 "nbformat_minor": 5
}
